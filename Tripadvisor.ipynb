{
 "cells": [
  {
   "cell_type": "markdown",
   "metadata": {},
   "source": [
    "# How to handle Pagination"
   ]
  },
  {
   "cell_type": "markdown",
   "metadata": {},
   "source": [
    "## Tripadvisor hotel ratings"
   ]
  },
  {
   "cell_type": "markdown",
   "metadata": {},
   "source": [
    "We will follow a similar approach in this example as well, however we will not be extracting a lot of parameters and thus our for loop structure will be concise.\n",
    "<br>\n",
    "Step 1: Import the required libraries"
   ]
  },
  {
   "cell_type": "code",
   "execution_count": 3,
   "metadata": {},
   "outputs": [],
   "source": [
    "from selenium import webdriver\n",
    "from selenium.webdriver.common.by import By\n",
    "from selenium.webdriver.support.ui import WebDriverWait\n",
    "from selenium.webdriver.support import expected_conditions as EC\n",
    "import time\n",
    "import os\n",
    "import csv\n",
    "import pandas as pd\n",
    "from math import ceil"
   ]
  },
  {
   "cell_type": "markdown",
   "metadata": {},
   "source": [
    "Step 2 : Created the output file"
   ]
  },
  {
   "cell_type": "code",
   "execution_count": 4,
   "metadata": {},
   "outputs": [],
   "source": [
    "file = open(\"tripadvisor.txt\",\"w\",encoding=\"UTF-8\",errors=\"ignore\")"
   ]
  },
  {
   "cell_type": "markdown",
   "metadata": {},
   "source": [
    "Step 3 : I created a function to write reviews and since each review possibly contains newlines, I have appended \"---------\" at the end of each review for easy demarcation between reviews"
   ]
  },
  {
   "cell_type": "code",
   "execution_count": 5,
   "metadata": {},
   "outputs": [],
   "source": [
    "def writeReviews(reviews):\n",
    "    for review in reviews:\n",
    "        file.write(review.text)\n",
    "        file.write(\"----------------\")"
   ]
  },
  {
   "cell_type": "markdown",
   "metadata": {},
   "source": [
    "Step 4 : Now loop over to collect the first 300 reviews\n",
    "<br>\n",
    "For each page:\n",
    "<br>\n",
    "1. Create a custom URL to load each page of review.\n",
    "2. Expand each review by clicking on the \"More\" button\n",
    "3. Extract review text using css-selector"
   ]
  },
  {
   "cell_type": "code",
   "execution_count": 6,
   "metadata": {},
   "outputs": [],
   "source": [
    "locationOfWebdriver = \"C:/Users/31072/Desktop/Desktop/Lec 2/chromedriver.exe\"\n",
    "driver = webdriver.Chrome(locationOfWebdriver)"
   ]
  },
  {
   "cell_type": "markdown",
   "metadata": {},
   "source": [
    "## \"https://www.tripadvisor.in/Hotel_Review-g32655-d84502-Reviews-Magic_Castle_Hotel-Los_Angeles_California.html#REVIEWS\"\n",
    "\n",
    "https://www.tripadvisor.in/Hotel_Review-g32655-d84502-Reviews-Magic_Castle_Hotel-Los_Angeles_California.html#REVIEWS\n",
    "\n",
    "https://www.tripadvisor.in/Hotel_Review-g32655-d84502-Reviews-or5-Magic_Castle_Hotel-Los_Angeles_California.html#REVIEWS\n",
    "\n",
    "https://www.tripadvisor.in/Hotel_Review-g32655-d84502-Reviews-or25-Magic_Castle_Hotel-Los_Angeles_California.html#REVIEWS\n",
    "\n",
    "\n",
    "\n",
    "## https://www.tripadvisor.in/Hotel_Review-g32655-d84502-Reviews-or\" + str(i) + \"-Magic_Castle_Hotel-Los_Angeles_California.html#REVIEWS"
   ]
  },
  {
   "cell_type": "code",
   "execution_count": 7,
   "metadata": {},
   "outputs": [
    {
     "name": "stdout",
     "output_type": "stream",
     "text": [
      "https://www.tripadvisor.in/Hotel_Review-g32655-d84502-Reviews-or5-Magic_Castle_Hotel-Los_Angeles_California.html#REVIEWS\n",
      "https://www.tripadvisor.in/Hotel_Review-g32655-d84502-Reviews-or10-Magic_Castle_Hotel-Los_Angeles_California.html#REVIEWS\n",
      "https://www.tripadvisor.in/Hotel_Review-g32655-d84502-Reviews-or15-Magic_Castle_Hotel-Los_Angeles_California.html#REVIEWS\n",
      "https://www.tripadvisor.in/Hotel_Review-g32655-d84502-Reviews-or20-Magic_Castle_Hotel-Los_Angeles_California.html#REVIEWS\n",
      "https://www.tripadvisor.in/Hotel_Review-g32655-d84502-Reviews-or25-Magic_Castle_Hotel-Los_Angeles_California.html#REVIEWS\n"
     ]
    }
   ],
   "source": [
    "for i in range(5,30,5):\n",
    "        cookedurl = \"https://www.tripadvisor.in/Hotel_Review-g32655-d84502-Reviews-or\" + str(i) + \"-Magic_Castle_Hotel-Los_Angeles_California.html#REVIEWS\"\n",
    "        print (cookedurl)\n",
    "    "
   ]
  },
  {
   "cell_type": "code",
   "execution_count": 8,
   "metadata": {},
   "outputs": [
    {
     "ename": "InvalidSelectorException",
     "evalue": "Message: invalid selector: Compound class names not permitted\n  (Session info: chrome=75.0.3770.142)\n  (Driver info: chromedriver=2.42.591088 (7b2b2dca23cca0862f674758c9a3933e685c27d5),platform=Windows NT 6.3.9600 x86_64)\n",
     "output_type": "error",
     "traceback": [
      "\u001b[1;31m\u001b[0m",
      "\u001b[1;31mInvalidSelectorException\u001b[0mTraceback (most recent call last)",
      "\u001b[1;32m<ipython-input-8-facef86fac22>\u001b[0m in \u001b[0;36m<module>\u001b[1;34m()\u001b[0m\n\u001b[0;32m      1\u001b[0m \u001b[0murl\u001b[0m \u001b[1;33m=\u001b[0m \u001b[1;34m\"https://www.tripadvisor.in/Hotel_Review-g32655-d84502-Reviews-Magic_Castle_Hotel-Los_Angeles_California.html#REVIEWS\"\u001b[0m\u001b[1;33m\u001b[0m\u001b[0m\n\u001b[0;32m      2\u001b[0m \u001b[0mdriver\u001b[0m\u001b[1;33m.\u001b[0m\u001b[0mget\u001b[0m\u001b[1;33m(\u001b[0m\u001b[0murl\u001b[0m\u001b[1;33m)\u001b[0m\u001b[1;33m\u001b[0m\u001b[0m\n\u001b[1;32m----> 3\u001b[1;33m \u001b[0mreviews\u001b[0m \u001b[1;33m=\u001b[0m \u001b[0mdriver\u001b[0m\u001b[1;33m.\u001b[0m\u001b[0mfind_elements_by_class_name\u001b[0m\u001b[1;33m(\u001b[0m\u001b[1;34m\"ui_button nav next primary \"\u001b[0m\u001b[1;33m)\u001b[0m\u001b[1;33m\u001b[0m\u001b[0m\n\u001b[0m\u001b[0;32m      4\u001b[0m \u001b[0mwriteReviews\u001b[0m\u001b[1;33m(\u001b[0m\u001b[0mreviews\u001b[0m\u001b[1;33m)\u001b[0m\u001b[1;33m\u001b[0m\u001b[0m\n\u001b[0;32m      5\u001b[0m \u001b[1;33m\u001b[0m\u001b[0m\n",
      "\u001b[1;32mE:\\anaconda\\lib\\site-packages\\selenium\\webdriver\\remote\\webdriver.pyc\u001b[0m in \u001b[0;36mfind_elements_by_class_name\u001b[1;34m(self, name)\u001b[0m\n\u001b[0;32m    578\u001b[0m             \u001b[0melements\u001b[0m \u001b[1;33m=\u001b[0m \u001b[0mdriver\u001b[0m\u001b[1;33m.\u001b[0m\u001b[0mfind_elements_by_class_name\u001b[0m\u001b[1;33m(\u001b[0m\u001b[1;34m'foo'\u001b[0m\u001b[1;33m)\u001b[0m\u001b[1;33m\u001b[0m\u001b[0m\n\u001b[0;32m    579\u001b[0m         \"\"\"\n\u001b[1;32m--> 580\u001b[1;33m         \u001b[1;32mreturn\u001b[0m \u001b[0mself\u001b[0m\u001b[1;33m.\u001b[0m\u001b[0mfind_elements\u001b[0m\u001b[1;33m(\u001b[0m\u001b[0mby\u001b[0m\u001b[1;33m=\u001b[0m\u001b[0mBy\u001b[0m\u001b[1;33m.\u001b[0m\u001b[0mCLASS_NAME\u001b[0m\u001b[1;33m,\u001b[0m \u001b[0mvalue\u001b[0m\u001b[1;33m=\u001b[0m\u001b[0mname\u001b[0m\u001b[1;33m)\u001b[0m\u001b[1;33m\u001b[0m\u001b[0m\n\u001b[0m\u001b[0;32m    581\u001b[0m \u001b[1;33m\u001b[0m\u001b[0m\n\u001b[0;32m    582\u001b[0m     \u001b[1;32mdef\u001b[0m \u001b[0mfind_element_by_css_selector\u001b[0m\u001b[1;33m(\u001b[0m\u001b[0mself\u001b[0m\u001b[1;33m,\u001b[0m \u001b[0mcss_selector\u001b[0m\u001b[1;33m)\u001b[0m\u001b[1;33m:\u001b[0m\u001b[1;33m\u001b[0m\u001b[0m\n",
      "\u001b[1;32mE:\\anaconda\\lib\\site-packages\\selenium\\webdriver\\remote\\webdriver.pyc\u001b[0m in \u001b[0;36mfind_elements\u001b[1;34m(self, by, value)\u001b[0m\n\u001b[0;32m   1005\u001b[0m         return self.execute(Command.FIND_ELEMENTS, {\n\u001b[0;32m   1006\u001b[0m             \u001b[1;34m'using'\u001b[0m\u001b[1;33m:\u001b[0m \u001b[0mby\u001b[0m\u001b[1;33m,\u001b[0m\u001b[1;33m\u001b[0m\u001b[0m\n\u001b[1;32m-> 1007\u001b[1;33m             'value': value})['value'] or []\n\u001b[0m\u001b[0;32m   1008\u001b[0m \u001b[1;33m\u001b[0m\u001b[0m\n\u001b[0;32m   1009\u001b[0m     \u001b[1;33m@\u001b[0m\u001b[0mproperty\u001b[0m\u001b[1;33m\u001b[0m\u001b[0m\n",
      "\u001b[1;32mE:\\anaconda\\lib\\site-packages\\selenium\\webdriver\\remote\\webdriver.pyc\u001b[0m in \u001b[0;36mexecute\u001b[1;34m(self, driver_command, params)\u001b[0m\n\u001b[0;32m    319\u001b[0m         \u001b[0mresponse\u001b[0m \u001b[1;33m=\u001b[0m \u001b[0mself\u001b[0m\u001b[1;33m.\u001b[0m\u001b[0mcommand_executor\u001b[0m\u001b[1;33m.\u001b[0m\u001b[0mexecute\u001b[0m\u001b[1;33m(\u001b[0m\u001b[0mdriver_command\u001b[0m\u001b[1;33m,\u001b[0m \u001b[0mparams\u001b[0m\u001b[1;33m)\u001b[0m\u001b[1;33m\u001b[0m\u001b[0m\n\u001b[0;32m    320\u001b[0m         \u001b[1;32mif\u001b[0m \u001b[0mresponse\u001b[0m\u001b[1;33m:\u001b[0m\u001b[1;33m\u001b[0m\u001b[0m\n\u001b[1;32m--> 321\u001b[1;33m             \u001b[0mself\u001b[0m\u001b[1;33m.\u001b[0m\u001b[0merror_handler\u001b[0m\u001b[1;33m.\u001b[0m\u001b[0mcheck_response\u001b[0m\u001b[1;33m(\u001b[0m\u001b[0mresponse\u001b[0m\u001b[1;33m)\u001b[0m\u001b[1;33m\u001b[0m\u001b[0m\n\u001b[0m\u001b[0;32m    322\u001b[0m             response['value'] = self._unwrap_value(\n\u001b[0;32m    323\u001b[0m                 response.get('value', None))\n",
      "\u001b[1;32mE:\\anaconda\\lib\\site-packages\\selenium\\webdriver\\remote\\errorhandler.pyc\u001b[0m in \u001b[0;36mcheck_response\u001b[1;34m(self, response)\u001b[0m\n\u001b[0;32m    240\u001b[0m                 \u001b[0malert_text\u001b[0m \u001b[1;33m=\u001b[0m \u001b[0mvalue\u001b[0m\u001b[1;33m[\u001b[0m\u001b[1;34m'alert'\u001b[0m\u001b[1;33m]\u001b[0m\u001b[1;33m.\u001b[0m\u001b[0mget\u001b[0m\u001b[1;33m(\u001b[0m\u001b[1;34m'text'\u001b[0m\u001b[1;33m)\u001b[0m\u001b[1;33m\u001b[0m\u001b[0m\n\u001b[0;32m    241\u001b[0m             \u001b[1;32mraise\u001b[0m \u001b[0mexception_class\u001b[0m\u001b[1;33m(\u001b[0m\u001b[0mmessage\u001b[0m\u001b[1;33m,\u001b[0m \u001b[0mscreen\u001b[0m\u001b[1;33m,\u001b[0m \u001b[0mstacktrace\u001b[0m\u001b[1;33m,\u001b[0m \u001b[0malert_text\u001b[0m\u001b[1;33m)\u001b[0m\u001b[1;33m\u001b[0m\u001b[0m\n\u001b[1;32m--> 242\u001b[1;33m         \u001b[1;32mraise\u001b[0m \u001b[0mexception_class\u001b[0m\u001b[1;33m(\u001b[0m\u001b[0mmessage\u001b[0m\u001b[1;33m,\u001b[0m \u001b[0mscreen\u001b[0m\u001b[1;33m,\u001b[0m \u001b[0mstacktrace\u001b[0m\u001b[1;33m)\u001b[0m\u001b[1;33m\u001b[0m\u001b[0m\n\u001b[0m\u001b[0;32m    243\u001b[0m \u001b[1;33m\u001b[0m\u001b[0m\n\u001b[0;32m    244\u001b[0m     \u001b[1;32mdef\u001b[0m \u001b[0m_value_or_default\u001b[0m\u001b[1;33m(\u001b[0m\u001b[0mself\u001b[0m\u001b[1;33m,\u001b[0m \u001b[0mobj\u001b[0m\u001b[1;33m,\u001b[0m \u001b[0mkey\u001b[0m\u001b[1;33m,\u001b[0m \u001b[0mdefault\u001b[0m\u001b[1;33m)\u001b[0m\u001b[1;33m:\u001b[0m\u001b[1;33m\u001b[0m\u001b[0m\n",
      "\u001b[1;31mInvalidSelectorException\u001b[0m: Message: invalid selector: Compound class names not permitted\n  (Session info: chrome=75.0.3770.142)\n  (Driver info: chromedriver=2.42.591088 (7b2b2dca23cca0862f674758c9a3933e685c27d5),platform=Windows NT 6.3.9600 x86_64)\n"
     ]
    }
   ],
   "source": [
    "url = \"https://www.tripadvisor.in/Hotel_Review-g32655-d84502-Reviews-Magic_Castle_Hotel-Los_Angeles_California.html#REVIEWS\"\n",
    "driver.get(url)\n",
    "reviews = driver.find_elements_by_class_name(\"ui_button nav next primary \")\n",
    "writeReviews(reviews)\n",
    "\n",
    "for i in range(5,30,5):\n",
    "    url = \"https://www.tripadvisor.in/Hotel_Review-g32655-d84502-Reviews-or\" + str(i) + \"-Magic_Castle_Hotel-Los_Angeles_California.html#REVIEWS\"\n",
    "    driver.get(url)\n",
    "    \n",
    "    # The reviews are displayed in condensed format so have to expand all of them before extracting\n",
    "    \n",
    "    buttons = driver.find_elements_by_class_name(\"ui_button nav next primary \")\n",
    "    for button in buttons:\n",
    "        try:\n",
    "            button.click()\n",
    "        except:\n",
    "            pass\n",
    "    reviews = driver.find_elements_by_class_name(\"hotels-review-list-parts-ReviewTitle__reviewTitleText--3QrTy\")\n",
    "    writeReviews(reviews)\n",
    "\n",
    "# Close the files\n",
    "file.close()\n",
    "driver.close()"
   ]
  },
  {
   "cell_type": "raw",
   "metadata": {},
   "source": [
    "Your output will look like this ( you need to do cleaning now)\n",
    "\n",
    "\n",
    "\n",
    "\n",
    "Good location, reasonable hotel----------------Few days in LA----------------Awesome service average facilities----------------Great Group Trip----------------Exceptional Service, Great Location----------------\n",
    "\n",
    "Loved it !!----------------Great place to stay if going to the Magic Castle----------------Lives up to its reputation----------------Wonderful service!----------------Great stay, perfect for Hollywood----------------\n",
    "\n",
    "Perfect family hotel----------------Better than a traditional hotel----------------Magical Vacation!----------------Centrally located Hotel with free snacks and drinks----------------\n",
    "\n",
    "Attention to detail and excellent customer service made this stay Magical!----------------Needs a renovation----------------Best hotel----------------Great location, Helpful staff----------------Magic!----------------Fabulous service----------------\n",
    "\n",
    "Kids Paradise----------------Great Hotel----------------Hidden Gem----------------Great hotel for the kids----------------Best start to our trip!----------------\n",
    "\n",
    "\n",
    "\n",
    "\n"
   ]
  }
 ],
 "metadata": {
  "kernelspec": {
   "display_name": "Python 3",
   "language": "python",
   "name": "python3"
  },
  "language_info": {
   "codemirror_mode": {
    "name": "ipython",
    "version": 3
   },
   "file_extension": ".py",
   "mimetype": "text/x-python",
   "name": "python",
   "nbconvert_exporter": "python",
   "pygments_lexer": "ipython3",
   "version": "3.7.3"
  }
 },
 "nbformat": 4,
 "nbformat_minor": 2
}
